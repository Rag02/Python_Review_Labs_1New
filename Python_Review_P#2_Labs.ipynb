{
 "cells": [
  {
   "cell_type": "markdown",
   "id": "fd7b73d1",
   "metadata": {},
   "source": [
    "## Lab1-Loop\n",
    "\n",
    "### 1) Using range(), make a range from 45 to 210, using a for loop iterate over the sequence and print the elements. Skip the number 100 and break the loop at 205.\n",
    "\n",
    "### 2) Using a while loop and input, do the following:\n",
    "- Ask the the user : \"what is the product of 7 * 24 ?\"\n",
    "- check if the answer is right then exit the loop and print \"You answered this Question correctly\".\n",
    "- if the answer is wrong, then print \"Your Answer is wrong try again..\" and show the user the question again."
   ]
  },
  {
   "cell_type": "code",
   "execution_count": 1,
   "id": "81576461",
   "metadata": {},
   "outputs": [
    {
     "name": "stdout",
     "output_type": "stream",
     "text": [
      "[45, 46, 47, 48, 49, 50, 51, 52, 53, 54, 55, 56, 57, 58, 59, 60, 61, 62, 63, 64, 65, 66, 67, 68, 69, 70, 71, 72, 73, 74, 75, 76, 77, 78, 79, 80, 81, 82, 83, 84, 85, 86, 87, 88, 89, 90, 91, 92, 93, 94, 95, 96, 97, 98, 99, 101, 102, 103, 104, 105, 106, 107, 108, 109, 110, 111, 112, 113, 114, 115, 116, 117, 118, 119, 120, 121, 122, 123, 124, 125, 126, 127, 128, 129, 130, 131, 132, 133, 134, 135, 136, 137, 138, 139, 140, 141, 142, 143, 144, 145, 146, 147, 148, 149, 150, 151, 152, 153, 154, 155, 156, 157, 158, 159, 160, 161, 162, 163, 164, 165, 166, 167, 168, 169, 170, 171, 172, 173, 174, 175, 176, 177, 178, 179, 180, 181, 182, 183, 184, 185, 186, 187, 188, 189, 190, 191, 192, 193, 194, 195, 196, 197, 198, 199, 200, 201, 202, 203, 204, 205]\n"
     ]
    }
   ],
   "source": [
    "numbers = []\n",
    "for num in range(45, 211):\n",
    "    if num == 100:\n",
    "        continue  # Skip the number 100\n",
    "    numbers.append(num)\n",
    "    if num == 205:\n",
    "        break  \n",
    "print(numbers)"
   ]
  },
  {
   "cell_type": "code",
   "execution_count": 2,
   "id": "c91dcd2c",
   "metadata": {},
   "outputs": [
    {
     "name": "stdout",
     "output_type": "stream",
     "text": [
      "You Answered this Question correctly.\n"
     ]
    }
   ],
   "source": [
    "\n",
    "while True:\n",
    "    answer = input(\"What is the product of 7 * 24? \")\n",
    "    if answer == \"168\":\n",
    "        print(\"You Answered this Question correctly.\")\n",
    "        break\n",
    "    else:\n",
    "        print(\"Your answer is wrong. Try again...\")"
   ]
  },
  {
   "cell_type": "markdown",
   "id": "5887393a",
   "metadata": {},
   "source": [
    "## Lab2-Functions\n",
    "\n",
    "### Create a function that takes one parameter of type int, then it prints out the result formatted like the following pattern (if we give it 5 for example):\n",
    "5 4 3 2 1   \n",
    "4 3 2 1   \n",
    "3 2 1   \n",
    "2 1   \n",
    "1   "
   ]
  },
  {
   "cell_type": "code",
   "execution_count": 3,
   "id": "44c6b152",
   "metadata": {},
   "outputs": [
    {
     "name": "stdout",
     "output_type": "stream",
     "text": [
      "print_pattern(5)\n",
      "5 4 3 2 1 \n",
      "4 3 2 1 \n",
      "3 2 1 \n",
      "2 1 \n",
      "1 \n",
      "print_pattern(6)\n",
      "6 5 4 3 2 1 \n",
      "5 4 3 2 1 \n",
      "4 3 2 1 \n",
      "3 2 1 \n",
      "2 1 \n",
      "1 \n"
     ]
    }
   ],
   "source": [
    "def print_pattern(n):\n",
    "    for i in range(n, 0, -1):\n",
    "        for j in range(i, 0, -1):\n",
    "            print(j, end=\" \")\n",
    "        print()\n",
    "\n",
    "print(\"print_pattern(5)\")\n",
    "print_pattern(5)\n",
    "print(\"print_pattern(6)\")\n",
    "print_pattern(6)"
   ]
  }
 ],
 "metadata": {
  "kernelspec": {
   "display_name": "Python 3 (ipykernel)",
   "language": "python",
   "name": "python3"
  },
  "language_info": {
   "codemirror_mode": {
    "name": "ipython",
    "version": 3
   },
   "file_extension": ".py",
   "mimetype": "text/x-python",
   "name": "python",
   "nbconvert_exporter": "python",
   "pygments_lexer": "ipython3",
   "version": "3.10.5"
  }
 },
 "nbformat": 4,
 "nbformat_minor": 5
}
